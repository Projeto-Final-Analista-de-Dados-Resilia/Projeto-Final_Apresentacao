{
 "cells": [
  {
   "cell_type": "markdown",
   "metadata": {},
   "source": [
    "# **Análise de Criptomoedas - Passo a Passo**\n",
    "\n",
    "\n"
   ]
  },
  {
   "cell_type": "markdown",
   "metadata": {},
   "source": [
    "## <font size= 6.5 color=gold>**Neste notebook, realizaremos uma análise exploratória dos valores das criptomoedas. O objetivo é responder a várias perguntas relacionadas ao mercado de criptomoedas usando os dados disponíveis. Vamos seguir as seguintes etapas:**"
   ]
  },
  {
   "cell_type": "markdown",
   "metadata": {},
   "source": [
    "### **Etapa 1: Importação e Limpeza de Dados**\n",
    "\n",
    "Nesta etapa, começaremos importando os dados das criptomoedas. Os dados brutos podem conter informações redundantes, nulas ou imprecisas, então nossa primeira tarefa é limpar os dados. Vamos realizar as seguintes ações:\n",
    "\n",
    "- Importar bibliotecas necessárias.\n",
    "- Carregar o conjunto de dados.\n",
    "- Verificar a integridade dos dados, como valores nulos.\n",
    "- Realizar a limpeza dos dados, se necessário."
   ]
  },
  {
   "cell_type": "markdown",
   "metadata": {},
   "source": [
    "### **Etapa 2: Análise Exploratória Inicial**\n",
    "\n",
    "Agora que temos os dados limpos, vamos realizar uma análise exploratória inicial para entender melhor as características dos valores das criptomoedas ao longo do tempo. Vamos executar as seguintes ações:\n",
    "\n",
    "- Calcular estatísticas descritivas para resumir os valores das criptomoedas.\n",
    "- Gerar gráficos de séries temporais para visualizar as tendências de preços ao longo do tempo.\n",
    "- Investigar a distribuição dos valores das criptomoedas.\n",
    "- Identificar anomalias ou outliers nos dados.\n",
    "- Inserção dos dados no Banco de Dados PostgreSQL"
   ]
  },
  {
   "cell_type": "markdown",
   "metadata": {},
   "source": [
    "### **Etapa 3: Respostas às Perguntas-Chave com Visualizações e Apresentação de Resultados**\n",
    "\n",
    "Agora que entendemos os dados e suas características básicas, vamos avançar e responder às perguntas-chave do projeto:\n",
    "\n",
    "\n",
    "1. **Tendência de Valores**: Vamos analisar se os valores das criptomoedas tiveram uma tendência de queda ou aumento ao longo do período.\n",
    "2. **Valores Médios**: Calcularemos os valores médios das criptomoedas.\n",
    "3. **Variações por Ano**: Identificaremos em quais anos ocorreram as maiores quedas e valorizações.\n",
    "4. **Variações por Dia da Semana**: Investigaremos se existe alguma tendência de aumento ou queda dos valores das criptomoedas de acordo com o dia da semana.\n",
    "5. **Moeda Mais e Menos Interessante**: Analisaremos qual criptomoeda se mostrou mais interessante em relação à valorização e qual se mostrou menos interessante com base na análise da série histórica.\n",
    "6. **Correlações**: Verificaremos se existe correlação entre os valores de diferentes criptomoedas.\n",
    "\n",
    "Para tornar nossos resultados mais compreensíveis, vamos criar visualizações apropriadas para cada pergunta que estamos respondendo. Utilizaremos gráficos e tabelas para apresentar nossas descobertas. Além disso, vamos gerar um dashboard interativo para explorar os dados de forma mais dinâmica."
   ]
  },
  {
   "cell_type": "markdown",
   "metadata": {},
   "source": [
    "### **Etapa 4: Conclusão e Próximos Passos**\n",
    "\n",
    "Na última etapa, resumiremos nossas descobertas e conclusões. Também levantaremos duas perguntas adicionais que não foram abordadas neste projeto e discutiremos possíveis direções futuras para a análise de criptomoedas.\n"
   ]
  },
  {
   "cell_type": "markdown",
   "metadata": {},
   "source": [
    "## **<font size= 6.5 color=gold> Agora que definimos nosso plano, vamos começar :**"
   ]
  },
  {
   "cell_type": "markdown",
   "metadata": {},
   "source": [
    "\n",
    "### <font size= 6 color=gold> **Etapa 1: Importação e Limpeza de Dados** "
   ]
  },
  {
   "cell_type": "markdown",
   "metadata": {},
   "source": [
    "#### **<font size= 5 color=gold>Importação dos Dados**"
   ]
  },
  {
   "cell_type": "markdown",
   "metadata": {},
   "source": [
    "##### **Origem dos Dados**\n",
    "\n",
    "Os dados utilizados neste projeto foram obtidos a partir do site CoinMarketCap e estão disponíveis gratuitamente para uso. O conjunto de dados consiste em um arquivo CSV para cada moeda e contém informações de histórico de preço diário a partir de 28 de abril de 2013. As moedas escolhidas para análise são as seguintes:\n",
    "\n",
    "- 'coin_BinanceCoin.csv'\n",
    "- 'coin_Cardano.csv'\n",
    "- 'coin_ChainLink.csv'\n",
    "- 'coin_CryptocomCoin.csv'\n",
    "- 'coin_EOS.csv'\n",
    "- 'coin_Ethereum.csv'\n",
    "- 'coin_Iota.csv'\n",
    "- 'coin_NEM.csv'\n",
    "- 'coin_Tron.csv'\n",
    "- 'coin_USDCoin.csv'\n",
    "\n",
    "##### Colunas do Conjunto de Dados\n",
    "\n",
    "O conjunto de dados contém as seguintes colunas:\n",
    "\n",
    "- **Date**: Data da observação.\n",
    "- **Open**: Preço de abertura no dia especificado.\n",
    "- **High**: Maior preço atingido no dia especificado.\n",
    "- **Low**: Menor preço atingido no dia especificado.\n",
    "- **Close**: Preço de fechamento no dia especificado.\n",
    "- **Volume**: Volume de transações no dia especificado.\n",
    "- **Market Cap**: Capitalização de mercado em USD no dia especificado.\n",
    "\n"
   ]
  },
  {
   "cell_type": "markdown",
   "metadata": {},
   "source": [
    "#### **<font size=5 color=gold>Limpeza inicial.**\n",
    "\n",
    "\n"
   ]
  },
  {
   "cell_type": "markdown",
   "metadata": {},
   "source": [
    "##### **Importar bibliotecas necessárias.** "
   ]
  },
  {
   "cell_type": "code",
   "execution_count": 12,
   "metadata": {},
   "outputs": [],
   "source": [
    "# Importar as bibliotecas Python necessárias\n",
    "import pandas as pd\n",
    "\n"
   ]
  },
  {
   "cell_type": "markdown",
   "metadata": {},
   "source": [
    "##### **Carregar o conjunto de dados**"
   ]
  },
  {
   "cell_type": "code",
   "execution_count": null,
   "metadata": {},
   "outputs": [],
   "source": [
    "# Carregar os dados da criptomoeda Cardano\n",
    "df = pd.read_csv('./criptos/coin_Cardano.csv')\n",
    "\n",
    "# Exibir as primeiras 5 linhas do DataFrame\n",
    "df.head()"
   ]
  },
  {
   "cell_type": "markdown",
   "metadata": {},
   "source": [
    "##### **Verificar a integridade dos dados, como valores nulos.**"
   ]
  },
  {
   "cell_type": "code",
   "execution_count": 10,
   "metadata": {},
   "outputs": [
    {
     "name": "stdout",
     "output_type": "stream",
     "text": [
      "SNo          0\n",
      "Name         0\n",
      "Symbol       0\n",
      "Date         0\n",
      "High         0\n",
      "Low          0\n",
      "Open         0\n",
      "Close        0\n",
      "Volume       0\n",
      "Marketcap    0\n",
      "dtype: int64\n"
     ]
    }
   ],
   "source": [
    "colunas_nulas = df.isnull().sum()\n",
    "\n",
    "# Exibir as colunas nulas\n",
    "\n",
    "print(colunas_nulas)"
   ]
  },
  {
   "cell_type": "markdown",
   "metadata": {},
   "source": [
    "##### **Realizar a limpeza dos dados, se necessário.**"
   ]
  },
  {
   "cell_type": "markdown",
   "metadata": {},
   "source": [
    "\n",
    "\n",
    "Na etapa Anterior, verificamos a qualidade dos dados e identificamos que não há colunas com valores nulos, o que é uma ótima notícia, pois os dados estão em boas condições para análise. Portanto, não será necessário realizar tratamentos para preencher ou remover valores nulos.\n",
    "\n",
    "###### Tratamentos de Dados\n",
    "\n",
    "No entanto, para aprimorar a análise, realizaremos os seguintes tratamentos nos dados:\n",
    "\n",
    "1. **Remoção da Hora da Coluna Data**: A coluna \"Data\" contém informações de data e hora, mas percebemos que o horário é sempre o mesmo. Portanto, iremos remover a parte da hora, mantendo apenas a data.\n",
    "\n",
    "2. **Transformação da Coluna Data para Datetime**: Para facilitar a manipulação e análise de datas, converteremos a coluna \"Data\" para o formato de data e hora (`datetime`).\n",
    "\n",
    "Esses tratamentos nos permitirão explorar os dados de forma mais eficaz e realizar análises temporais relevantes.\n",
    "\n",
    "Vamos implementar esses tratamentos nos próximos passos da nossa análise.\n"
   ]
  },
  {
   "cell_type": "markdown",
   "metadata": {},
   "source": [
    "### <font size= 6 color=gold>  **Etapa 2: Análise Exploratória Inicial**"
   ]
  },
  {
   "cell_type": "markdown",
   "metadata": {},
   "source": [
    "\n",
    "<font size=4 > Nesta etapa, nosso foco principal é preparar os dados para análises mais detalhadas que serão conduzidas posteriormente com a ajuda da ferramenta Power BI. Portanto, não realizaremos as análises detalhadas neste momento."
   ]
  },
  {
   "cell_type": "markdown",
   "metadata": {},
   "source": [
    "#### <font size=5 color=gold> **Preparação dos Dados**"
   ]
  },
  {
   "cell_type": "markdown",
   "metadata": {},
   "source": [
    "<font size=4 > Começaremos preparando os dados para análise. Isso inclui a limpeza inicial dos dados, como mencionado na Etapa 1, e a formatação adequada para futuras análises."
   ]
  },
  {
   "cell_type": "markdown",
   "metadata": {},
   "source": [
    "#### <font size=5 color=gold> **Inserção dos Dados no Banco de Dados PostgreSQL**"
   ]
  },
  {
   "cell_type": "markdown",
   "metadata": {},
   "source": [
    "<font size=4 > Além da preparação dos dados, planejamos inserir os dados em um Banco de Dados PostgreSQL para facilitar a análise no Power BI. Posteriormente, forneceremos um tutorial sobre como realizar essa inserção em um banco na nuvem usando o serviço Render e como estabelecer a conexão do Power BI com o PostgreSQL na nuvem.\n"
   ]
  },
  {
   "cell_type": "markdown",
   "metadata": {},
   "source": [
    "#### <font size=5 color=gold> **Acompanhando o Estado do Banco de Dados com o pgAdmin**"
   ]
  },
  {
   "cell_type": "markdown",
   "metadata": {},
   "source": [
    "Uma parte crucial do processo de preparação e inserção de dados em um banco de dados PostgreSQL é a capacidade de monitorar e acompanhar o estado do banco de dados. Isso permite garantir que os dados estejam sendo inseridos corretamente e que o banco de dados esteja funcionando conforme o esperado. Neste contexto, utilizaremos o pgAdmin, uma interface gráfica popular para gerenciar bancos de dados PostgreSQL, para acompanhar o processo de inserção dos dados das criptomoedas.\n",
    "\n",
    "##### O que é o pgAdmin?\n",
    "\n",
    "O [pgAdmin](https://www.pgadmin.org/) é uma ferramenta de código aberto amplamente usada para administrar bancos de dados PostgreSQL. Ele fornece uma interface intuitiva e amigável que permite aos administradores e desenvolvedores realizar diversas tarefas de gerenciamento de bancos de dados, incluindo a criação de esquemas, consultas SQL, importação e exportação de dados, entre outros.\n",
    "\n",
    "##### Como Acompanhar o Estado do Banco de Dados com o pgAdmin?\n",
    "\n",
    "Aqui estão os passos para acompanhar o estado do banco de dados durante o processo de inserção de dados:\n",
    "\n",
    "##### 1. Instalação do pgAdmin\n",
    "\n",
    "Se você ainda não possui o pgAdmin instalado, pode baixá-lo e instalá-lo em seu sistema operacional a partir do [site oficial do pgAdmin](https://www.pgadmin.org/download/). Certifique-se de escolher a versão compatível com seu sistema operacional.\n",
    "\n",
    "##### 2. Conexão ao Banco de Dados\n",
    "\n",
    "Após a instalação, abra o pgAdmin e siga estas etapas:\n",
    "\n",
    "   - Clique com o botão direito em \"Servers\" na barra lateral esquerda.\n",
    "   - Escolha \"Register\" > \"Server\" para criar uma nova conexão com o banco de dados.\n",
    "\n",
    "\n",
    "   ![pgadmin01](./assets/pgadmin/pgadmin01.png)\n",
    "\n",
    "    \n",
    "   - Preencha os detalhes da conexão, incluindo o nome do servidor, host, porta e credenciais de autenticação.\n",
    "   \n",
    "   - hostname = dpg-ck4pn76ct0pc7384758g-a.oregon-postgres.render.com\n",
    "   - database = cripto_db_kn8g\n",
    "   - username = cripto_db_kn8g_user\n",
    "   - password = MIfSgNn7zC2lD0PbMhYnfn1pc60gTi8c\n",
    "\n",
    "\n",
    "   ![pgadmin02](./assets/pgadmin/pgadmin02.png)\n",
    "\n",
    "\n",
    "   ![pgadmin03](./assets/pgadmin/pgadmin03.png)\n",
    "\n",
    "\n",
    "   - Clique em \"Save\" para salvar a conexão.\n",
    "\n",
    "##### 3. Visualização do Estado do Banco de Dados\n",
    "\n",
    "Com a conexão estabelecida, você pode agora visualizar o estado do banco de dados:\n",
    "\n",
    "\n",
    "   ![pgadmin04](./assets/pgadmin/pgadmin04.png)\n",
    "\n",
    "\n",
    "   - Expanda a árvore de servidores e a conexão criada para acessar o banco de dados.\n",
    "\n",
    "\n",
    "\n",
    "   ![pgadmin05](./assets/pgadmin/pgadmin05.png)\n",
    "\n",
    "   \n",
    "   - Execute o script da seção abaixo para criar a tabela no PostgreSQL e inserir os dados\n",
    "\n",
    "   - Clique com o botão direito do mouse em TABLES e clique em REFRESH para atualizar as tabelas do banco e mostar a tabela criada no script\n",
    "\n",
    "\n",
    "   ![pgadmin08](./assets/pgadmin/pgadmin08.png)\n",
    "\n",
    "\n",
    "   - Navegue até a tabela onde os dados estão sendo inseridos, que no nosso caso é a tabela `tabela_cripto`.\n",
    "   - Clique com o botão direito na tabela e escolha \"View Data\" para visualizar os dados atuais na tabela.\n",
    "\n",
    "\n",
    "   ![pgadmin09](./assets/pgadmin/pgadmin09.png)\n",
    "\n",
    "\n",
    "   ![pgadmin10](./assets/pgadmin/pgadmin10.png)\n",
    "\n",
    "\n",
    "\n",
    "##### 4. Acompanhamento em Tempo Real\n",
    "\n",
    "À medida que o script Python executa o processo de inserção dos dados no banco de dados PostgreSQL, você pode acompanhar o progresso em tempo real por meio do pgAdmin. Isso permite verificar se os dados estão sendo inseridos corretamente e se não há erros ou problemas de integridade.\n",
    "\n",
    "##### Conclusão\n",
    "\n",
    "A utilização do pgAdmin para acompanhar o estado do banco de dados é uma prática importante durante o processo de inserção de dados. Ele fornece uma visão clara do que está acontecendo no banco de dados e ajuda a garantir a qualidade e integridade dos dados inseridos. Certifique-se de configurar corretamente o pgAdmin e aproveite essa ferramenta poderosa para gerenciar seu banco de dados PostgreSQL.\n"
   ]
  },
  {
   "cell_type": "markdown",
   "metadata": {},
   "source": []
  },
  {
   "cell_type": "markdown",
   "metadata": {},
   "source": [
    "####  <font size=5 color=gold> **Script de Preparação e Inserção de Dados em Banco de Dados PostgreSQL**\n",
    "\n",
    "\n",
    "\n",
    "\n"
   ]
  },
  {
   "cell_type": "markdown",
   "metadata": {},
   "source": [
    "<font size=4 color=white> Este script Python realiza uma série de ações para preparar e inserir dados relacionados a criptomoedas em um banco de dados PostgreSQL. Abaixo estão as principais etapas e explicações:\n",
    "\n",
    "##### 1. Importação de Bibliotecas\n",
    "\n",
    "O script começa importando as bibliotecas necessárias para executar as tarefas, incluindo `os`, `subprocess`, `pandas` e `psycopg2`.\n",
    "\n",
    "##### 2. Instalação de Bibliotecas\n",
    "\n",
    "Verifica se as bibliotecas `pandas` e `psycopg2` estão instaladas no ambiente. Caso não estejam, o script as instala automaticamente usando o comando `pip install`.\n",
    "\n",
    "##### 3. Diretório de Dados\n",
    "\n",
    "Define o diretório onde os arquivos CSV originais das criptomoedas estão localizados. É importante definir o caminho correto para esses arquivos.\n",
    "\n",
    "##### 4. Lista de Arquivos\n",
    "\n",
    "Cria uma lista chamada `arquivos` que contém os nomes dos arquivos CSV originais das criptomoedas que serão processados.\n",
    "\n",
    "##### 5. Preparação dos Dados\n",
    "\n",
    "Para cada arquivo na lista `arquivos`, o script realiza as seguintes ações:\n",
    "   - Lê o arquivo CSV.\n",
    "   - Converte a coluna de datas para o formato correto e remove o horário.\n",
    "   - Remove a coluna 'SNo'.\n",
    "   - Combina os dados de cada arquivo em um único DataFrame chamado `dados_combinados`.\n",
    "\n",
    "##### 6. Salvamento dos Dados\n",
    "\n",
    "Salva o DataFrame `dados_combinados` em um novo arquivo CSV chamado 'dados_combinados.csv'. Esse arquivo será usado posteriormente para inserir os dados no banco de dados PostgreSQL.\n",
    "\n",
    "##### 7. Conexão com o Banco de Dados PostgreSQL\n",
    "\n",
    "Estabelece uma conexão com um banco de dados PostgreSQL que está hospedado na nuvem. São fornecidas informações essenciais, como o host do banco de dados, o nome do banco de dados, o nome de usuário e a senha.\n",
    "\n",
    "##### 8. Criação da Tabela\n",
    "\n",
    "Define a estrutura da tabela no banco de dados onde os dados das criptomoedas serão armazenados. São especificados os tipos de dados das colunas, chaves primárias, etc.\n",
    "\n",
    "##### 9. Carregamento dos Dados\n",
    "\n",
    "Usa o comando `COPY` para carregar os dados do arquivo CSV combinado ('dados_combinados.csv') para a tabela PostgreSQL recém-criada. Isso popula a tabela com os dados das criptomoedas.\n",
    "\n",
    "##### 10. Commit e Fechamento\n",
    "\n",
    "Realiza um commit para salvar as alterações no banco de dados. Em seguida, fecha a conexão com o banco de dados PostgreSQL.\n",
    "\n",
    "##### 11. Conclusão\n",
    "\n",
    "Finaliza o script exibindo a mensagem \"Concluído!\" para indicar que o processo de preparação e inserção de dados foi concluído com sucesso.\n",
    "\n",
    "Este script automatiza a tarefa de preparar e inserir dados de criptomoedas em um banco de dados PostgreSQL, facilitando análises futuras."
   ]
  },
  {
   "cell_type": "markdown",
   "metadata": {},
   "source": [
    "#### <font size=5 color=gold> **Execução do Script**"
   ]
  },
  {
   "cell_type": "code",
   "execution_count": 2,
   "metadata": {},
   "outputs": [
    {
     "name": "stdout",
     "output_type": "stream",
     "text": [
      "Concluído!\n"
     ]
    }
   ],
   "source": [
    "import os\n",
    "import subprocess\n",
    "import pandas as pd\n",
    "import psycopg2\n",
    "\n",
    "# Instalação do pandas e psycopg2 se não estiverem instalados\n",
    "try:\n",
    "    import pandas as pd\n",
    "except ImportError:\n",
    "    subprocess.run([\"pip\", \"install\", \"pandas\"])\n",
    "\n",
    "try:\n",
    "    import psycopg2\n",
    "except ImportError:\n",
    "    subprocess.run([\"pip\", \"install\", \"psycopg2\"])\n",
    "\n",
    "# Diretório onde estão os arquivos CSV originais\n",
    "diretorio = './criptos'  # Defina o diretório correto\n",
    "pasta_csv_alterado = os.path.join('csv_alterado')\n",
    "\n",
    "# Verifica se a pasta 'csv_alterado' existe e a cria se necessário\n",
    "if not os.path.exists(pasta_csv_alterado):\n",
    "    os.makedirs(pasta_csv_alterado)\n",
    "\n",
    "# Lista de nomes dos arquivos CSV originais\n",
    "arquivos = [\n",
    "    'coin_BinanceCoin.csv',\n",
    "    'coin_Cardano.csv',\n",
    "    'coin_ChainLink.csv',\n",
    "    'coin_CryptocomCoin.csv',\n",
    "    'coin_EOS.csv',\n",
    "    'coin_Ethereum.csv',\n",
    "    'coin_Iota.csv',\n",
    "    'coin_NEM.csv',\n",
    "    'coin_Tron.csv',\n",
    "    'coin_USDCoin.csv'\n",
    "]\n",
    "\n",
    "# Cria um DataFrame vazio para armazenar os dados combinados\n",
    "dados_combinados = pd.DataFrame()\n",
    "\n",
    "# Para cada arquivo na lista\n",
    "for arquivo in arquivos:\n",
    "    arquivo_csv = os.path.join(diretorio, arquivo)\n",
    "    df = pd.read_csv(arquivo_csv)\n",
    "    df['Date'] = pd.to_datetime(df['Date']).dt.date  # Converte para tipo 'DATE' e remove o horário\n",
    "    df = df.drop(columns='SNo')  # Remove a coluna 'SNo'\n",
    "    dados_combinados = pd.concat([dados_combinados, df])\n",
    "\n",
    "# Salva o DataFrame combinado em um único arquivo CSV\n",
    "arquivo_csv_combinado = os.path.join(pasta_csv_alterado, 'dados_combinados.csv')\n",
    "dados_combinados.to_csv(arquivo_csv_combinado, index=False)\n",
    "\n",
    "# Conexão com o banco de dados PostgreSQL\n",
    "conn = psycopg2.connect(\n",
    "    host=\"dpg-ck4pn76ct0pc7384758g-a.oregon-postgres.render.com\",\n",
    "    database=\"cripto_db_kn8g\",\n",
    "    user=\"cripto_db_kn8g_user\",\n",
    "    password=\"MIfSgNn7zC2lD0PbMhYnfn1pc60gTi8c\"\n",
    ")\n",
    "\n",
    "# Criação da tabela no PostgreSQL\n",
    "with conn.cursor() as cur:\n",
    "    cur.execute('''\n",
    "        CREATE TABLE IF NOT EXISTS tabela_cripto (\n",
    "            id SERIAL PRIMARY KEY,\n",
    "            Name TEXT,\n",
    "            Symbol TEXT,\n",
    "            Date DATE,\n",
    "            High NUMERIC,\n",
    "            Low NUMERIC,\n",
    "            Open NUMERIC,\n",
    "            Close NUMERIC,\n",
    "            Volume NUMERIC,\n",
    "            Marketcap NUMERIC\n",
    "        );\n",
    "    ''')\n",
    "# Usa o comando COPY para carregar os dados do arquivo CSV combinado para a tabela PostgreSQL\n",
    "with conn.cursor() as copy_cur:\n",
    "    with open(arquivo_csv_combinado, 'r') as f:\n",
    "        columns = \",\".join(dados_combinados.columns)  # Todas as colunas\n",
    "        copy_cur.copy_expert(f\"COPY tabela_cripto ({columns}) FROM stdin WITH CSV HEADER\", f)\n",
    "\n",
    "# Commit para salvar as alterações no banco de dados\n",
    "conn.commit()\n",
    "\n",
    "# Fecha a conexão com o banco de dados\n",
    "conn.close()\n",
    "\n",
    "print(\"Concluído!\")"
   ]
  },
  {
   "cell_type": "markdown",
   "metadata": {},
   "source": [
    "### <font size= 6 color=gold>  **Etapa 3: Respostas às Perguntas-Chave com Visualizações e Apresentação de Resultados**"
   ]
  },
  {
   "cell_type": "markdown",
   "metadata": {},
   "source": [
    "#### <font size=6 color=gold> **Análises Detalhadas com o Power BI**"
   ]
  },
  {
   "cell_type": "markdown",
   "metadata": {},
   "source": [
    "##### Utilizando o Power BI para Análises Exploratórias Detalhadas\n",
    "\n",
    "As análises exploratórias detalhadas serão conduzidas no Power BI, uma poderosa ferramenta de visualização e análise de dados. Utilizaremos o Power BI para criar gráficos interativos, dashboards e explorar tendências e padrões nos dados das criptomoedas.\n",
    "\n",
    "Fiquem atentos para as próximas etapas, onde abordaremos em detalhes como conectar os dados no Power BI e realizar análises mais aprofundadas. Essas análises nos ajudarão a obter insights valiosos sobre o comportamento das criptomoedas e tomar decisões informadas.\n",
    "\n",
    "###### O que é o Power BI?\n",
    "\n",
    "O [Power BI](https://powerbi.microsoft.com/) é uma suíte de análise de negócios da Microsoft que permite visualizar seus dados e compartilhar insights em toda a organização ou os incorpora em um aplicativo ou site. Ele oferece recursos avançados de visualização e é amplamente utilizado para criar painéis de controle interativos, relatórios e análises de dados.\n",
    "\n",
    "##### Como Conectar os Dados no Power BI?\n",
    "\n",
    "Aqui estão os passos gerais para conectar os dados das criptomoedas ao Power BI:\n",
    "\n",
    "##### 1. Preparação dos Dados\n",
    "\n",
    "Certifique-se de que os dados das criptomoedas foram preparados e inseridos corretamente no Banco de Dados PostgreSQL, como explicado anteriormente. Os dados limpos e estruturados são essenciais para análises eficazes no Power BI.\n",
    "\n",
    "##### 2. Instalação do Power BI Desktop\n",
    "\n",
    "Se você ainda não possui o Power BI Desktop instalado, pode baixá-lo gratuitamente no [site oficial do Power BI](https://powerbi.microsoft.com/en-us/desktop/). Certifique-se de escolher a versão compatível com o seu sistema operacional.\n",
    "\n",
    "##### 3. Conexão aos Dados\n",
    "\n",
    "Abra o Power BI Desktop e siga estas etapas:\n",
    "\n",
    "   - Clique em \"Obter Dados\" ou \"Get Data\" na barra de ferramentas.\n",
    "\n",
    "\n",
    "   ![bi01](assets/powerbi/bi01.png)\n",
    "\n",
    "\n",
    "   - Escolha \"Banco de Dados\" ou \"Database\" e selecione \"PostgreSQL\".\n",
    "\n",
    "\n",
    "   ![bi02](assets/powerbi/bi02.png)\n",
    "\n",
    "\n",
    "   - Preencha os detalhes da conexão, incluindo servidor, banco de dados, nome de usuário e senha.\n",
    "\n",
    "\n",
    "   ![bi03](assets/powerbi/bi03.png)\n",
    "\n",
    "\n",
    " - Clique em \"Conectar\" para estabelecer a conexão com o Banco de Dados PostgreSQL.\n",
    "\n",
    "\n",
    "   ![bi04](assets/powerbi/bi04.png)\n",
    "\n",
    "\n",
    "   - Clique em \"Carregar\" para carregar os dados no powerbi.\n",
    "\n",
    "\n",
    "   ![bi05](assets/powerbi/bi05.png)\n",
    "\n",
    "\n",
    "\n",
    "   ![bi06](assets/powerbi/bi06.png)\n",
    "\n",
    "\n",
    "\n",
    "##### 4. Criação de Relatórios e Dashboards\n",
    "\n",
    "Com os dados conectados, você pode começar a criar relatórios interativos, gráficos e dashboards no Power BI Desktop. Explore as diferentes visualizações disponíveis e crie painéis personalizados para analisar as tendências e padrões nas criptomoedas.\n",
    "\n",
    "\n",
    "   ![b107](assets/powerbi/bi07.png)\n",
    "\n",
    "\n",
    "##### Conclusão\n",
    "\n",
    "O uso do Power BI amplia nossas capacidades de análise e visualização de dados, permitindo-nos explorar os dados das criptomoedas de maneira mais profunda e interativa.\n"
   ]
  },
  {
   "cell_type": "markdown",
   "metadata": {},
   "source": [
    "#### <font size=6 color=gold> **A análise deverá responder às seguintes perguntas:**"
   ]
  },
  {
   "cell_type": "markdown",
   "metadata": {},
   "source": [
    "* Observação: \n",
    "    \n",
    "    * A moeda digital Bitcoin não foi considerada nesta base de dados para minimizar possíveis distorções.\n",
    "    * O dashboard interativo contruído possuí 10 opções na barra de moeda, 7 opções na seleção do ano e 7 opções de dias da semana. O que possibilita uma combinação de pelo menos 490 gráficos que podem ajudar na elucidação das análises para as questões propostas.\n",
    "    `"
   ]
  },
  {
   "cell_type": "markdown",
   "metadata": {},
   "source": [
    "##### **1. Como se comportaram os valores para todas as criptomoedas? Os valores tiveram uma tendência de queda ou de aumento?**"
   ]
  },
  {
   "cell_type": "markdown",
   "metadata": {},
   "source": [
    "<br>\n",
    "<img src='./assets/graficos/questao01A.png'>\n",
    "<br>\n",
    "\n",
    "* No período entre 2018 e 2021, houve uma tendência de queda; o que fica evidente pela linha tracejada de cor branca que representa a mediana da valorização percentual no intervalo acumulado."
   ]
  },
  {
   "cell_type": "markdown",
   "metadata": {},
   "source": [
    "\n",
    "* Para a análise consideramos o ano de 2021.\n",
    "\n",
    "    * Duas moedas possuem curvas com  maior volatilidade, são Ethereum e Binance Coin.Para as demais moedas as oscilações de preço são pouco significativas, qualquer tentativa de análise acarretará em especulações pouco embasadas.\n",
    "    \n",
    "    * No que tange as moedas citadas (Ethereum e BC) para primeira é visível oscilações pouco significativas, indicando volatilidade tendência de baixa. Já a segunda moeda, Binance Coin, as oscilações são muito significativas quando comparado com a primeira, é presente uma leve tendência de aumento."
   ]
  },
  {
   "cell_type": "markdown",
   "metadata": {},
   "source": [
    "##### **2. Quais os valores médios para todas as criptomoedas?**"
   ]
  },
  {
   "cell_type": "markdown",
   "metadata": {},
   "source": [
    "<div style=\"display: flex; justify-content: center;\">\n",
    "    <img src='./assets/graficos/questao02A.png' />\n",
    "</div>\n"
   ]
  },
  {
   "cell_type": "markdown",
   "metadata": {},
   "source": [
    "##### **3. Em quais anos houve maiores quedas e valorizações?** "
   ]
  },
  {
   "cell_type": "markdown",
   "metadata": {},
   "source": [
    "<br>\n",
    "<img src='./assets/graficos/questao03A.png'>\n",
    "<br>\n",
    "\n",
    "* O ano de 2018 é o que apresenta maior queda absoluta para todos os criptoativos."
   ]
  },
  {
   "cell_type": "markdown",
   "metadata": {},
   "source": [
    "<br>\n",
    "<img src='./assets/graficos/questao03B.png'>\n",
    "<br>\n",
    "\n",
    "* 2021, é o ano com maior valorização absoluta para as criptomoedas selecionadas."
   ]
  },
  {
   "cell_type": "markdown",
   "metadata": {},
   "source": [
    "##### **4. Existe alguma tendência de aumento ou queda dos valores pelo dia da semana?** "
   ]
  },
  {
   "cell_type": "markdown",
   "metadata": {},
   "source": [
    "<br>\n",
    "<img src='./assets/graficos/questao04A.png'>\n",
    "<br>\n",
    "\n",
    "* Pela análise dos dados (2016 até 2022) no painel contruído no Power BI, é possível depreender que o dia da semana com maior volume de negociação é a sexta-feira. Entretanto não é pssível afirmar com veemência que um maior volume de negociação está ligado a uma tendência de queda ou aumento no valor das criptomoedas negociadas."
   ]
  },
  {
   "cell_type": "markdown",
   "metadata": {},
   "source": [
    "##### **5. Qual moeda se mostra mais interessante em relação à valorização pela análise da série histórica?** "
   ]
  },
  {
   "cell_type": "markdown",
   "metadata": {},
   "source": [
    "<br>\n",
    "<img src='./assets/graficos/questao05A.png'>\n",
    "<br>\n",
    "\n",
    "* Analisando o dashboard criado, é observado valores mínimos, máximos, média e volume negociado. Levando em consideração também estes fatores a criptomoeda entre as dez escolhidas que apresenta maior valorização é a Ethereum para o perídodo que compreende os anos de 2016 até 2021."
   ]
  },
  {
   "cell_type": "markdown",
   "metadata": {},
   "source": [
    "##### **6. Qual moeda se mostra menos interessante em relação à valorização pela análise da série histórica?** "
   ]
  },
  {
   "cell_type": "markdown",
   "metadata": {},
   "source": [
    "<br>\n",
    "<img src='./assets/graficos/questao06A.png'>\n",
    "<br>\n",
    "\n",
    "* A moeda menos interessante para o período de 2019 até 2021 foi a USD Coin, praticamente não houve valorização ou perca significativa. O que equivale a um investimento que dado o seu risco, não conseguiu minimamente superar a inflação do período acumulado, acarretando perda de capital para o investidor."
   ]
  },
  {
   "cell_type": "markdown",
   "metadata": {},
   "source": [
    "##### **7. Existe correlação entre os valores para todas as criptomoedas?** "
   ]
  },
  {
   "cell_type": "markdown",
   "metadata": {},
   "source": [
    "<br>\n",
    "<img src='./assets/graficos/questao07A.png'>\n",
    "<br>\n",
    "\n",
    "\n",
    "* Ao analisarmos os gráficos detalhadamente, é evidente que a maioria das criptomoedas apresenta uma notável correlação de preços, visto que a maioria dos valores se encontra na faixa de 0,6 a 0,9. Esses números apontam para uma correlação positiva e substancial entre os preços dessas moedas. No entanto, é interessante notar que há uma exceção notável, que é a USD Coin. Esta criptomoeda exibe alguns valores negativos, o que sugere uma correlação negativa em relação a outras moedas digitais, embora essa correlação seja, de maneira geral, fraca. "
   ]
  },
  {
   "cell_type": "markdown",
   "metadata": {},
   "source": [
    "##### **Questões Extras:** "
   ]
  },
  {
   "cell_type": "markdown",
   "metadata": {},
   "source": [
    "##### **1. Qual foi a criptomoeda que teve a maior volatilidade ao longo do período analisado?** "
   ]
  },
  {
   "cell_type": "code",
   "execution_count": 4,
   "metadata": {},
   "outputs": [
    {
     "name": "stdout",
     "output_type": "stream",
     "text": [
      "A criptomoeda mais volátil é: TRON\n"
     ]
    }
   ],
   "source": [
    "import pandas as pd\n",
    "\n",
    "df = pd.read_csv('./csv_alterado/dados_combinados.csv')\n",
    "\n",
    "# Vamos calcular a volatilidade de cada criptomoeda\n",
    "df['Volatility'] = df.groupby('Name')['Close'].transform(lambda x: x.pct_change().std())\n",
    "\n",
    "# Encontrar a criptomoeda com a maior volatilidade\n",
    "most_volatile_currency = df.groupby('Name')['Volatility'].max().idxmax()\n",
    "print(f\"A criptomoeda mais volátil é: {most_volatile_currency}\")"
   ]
  },
  {
   "cell_type": "markdown",
   "metadata": {},
   "source": [
    "##### **2. Qual foi a criptomoeda com o maior valor máximo de mercado?** "
   ]
  },
  {
   "cell_type": "markdown",
   "metadata": {},
   "source": [
    "\n",
    "<br>\n",
    "<img src='./assets/graficos/questao05A.png'>\n",
    "<br>\n",
    "\n",
    "\n",
    "* A moeda que atingiu o valor máximo de mercado mais expressivo foi a Ethereum, alcançando a notável marca de 4,36 mil dólares no ano de 2021. Esse feito impressionante destaca o crescimento substancial e o interesse do mercado em torno da Ethereum durante esse período."
   ]
  },
  {
   "cell_type": "code",
   "execution_count": null,
   "metadata": {},
   "outputs": [],
   "source": []
  },
  {
   "cell_type": "markdown",
   "metadata": {},
   "source": [
    "### <font size= 6 color=gold>  **Etapa 4: Conclusão e Próximos Passos**"
   ]
  },
  {
   "cell_type": "markdown",
   "metadata": {},
   "source": [
    "* Essa é uma parte crucial do processo de análise de criptomoedas, permitindo-nos resumir nossas descobertas e identificar os próximos passos para a análise. Aqui estão as principais conclusões e possíveis próximos passos:\n"
   ]
  },
  {
   "cell_type": "markdown",
   "metadata": {},
   "source": [
    "#### **Conclusões**"
   ]
  },
  {
   "cell_type": "markdown",
   "metadata": {},
   "source": [
    "##### **Tendência de Valores**\n",
    "* A análise dos valores das criptomoedas ao longo do período selecionado (2018 a 2021) revelou uma tendência geral de queda nos preços. No entanto, algumas moedas, como Ethereum e Binance Coin, mostraram maior volatilidade e oscilações significativas de preço."
   ]
  },
  {
   "cell_type": "markdown",
   "metadata": {},
   "source": [
    "##### **Valores Médios**\n",
    "* Os valores médios das criptomoedas variaram ao longo do tempo, com algumas moedas apresentando médias mais altas em relação às outras.\n"
   ]
  },
  {
   "cell_type": "markdown",
   "metadata": {},
   "source": [
    "##### **Variações por Ano**\n",
    "* O ano de 2018 foi marcado por quedas significativas nos valores das criptomoedas, enquanto 2021 foi o ano de maior valorização. Essas variações estão alinhadas com a volatilidade característica desse mercado."
   ]
  },
  {
   "cell_type": "markdown",
   "metadata": {},
   "source": [
    "##### **Variações por Dia da Semana**\n",
    "* Não foi observada uma tendência clara de aumento ou queda dos valores das criptomoedas com base no dia da semana.\n"
   ]
  },
  {
   "cell_type": "markdown",
   "metadata": {},
   "source": [
    "##### **Moeda Mais e Menos Interessante**\n",
    "* A Ethereum se destacou como a moeda mais interessante em relação à valorização, enquanto a USD Coin apresentou uma valorização muito baixa ou quase nula.\n"
   ]
  },
  {
   "cell_type": "markdown",
   "metadata": {},
   "source": [
    "##### **Correlações**\n",
    "* A maioria das criptomoedas apresentou uma correlação positiva e substancial de preços, com valores concentrados entre 0,6 e 0,9. A USD Coin foi a exceção, mostrando uma correlação negativa fraca em relação a outras moedas digitais.\n"
   ]
  },
  {
   "cell_type": "markdown",
   "metadata": {},
   "source": [
    "#### **Próximos Passos**"
   ]
  },
  {
   "cell_type": "markdown",
   "metadata": {},
   "source": [
    "##### **Análise mais detalhada**\n",
    "- Utilizar o Power BI para aprofundar as análises, explorar mais visualizações, criar painéis interativos e descobrir insights adicionais nos dados das criptomoedas.\n"
   ]
  },
  {
   "cell_type": "markdown",
   "metadata": {},
   "source": [
    "##### **Monitoramento contínuo**\n",
    "- Considerar a possibilidade de configurar um sistema de monitoramento contínuo dos preços das criptomoedas para acompanhar as tendências em tempo real.\n"
   ]
  },
  {
   "cell_type": "markdown",
   "metadata": {},
   "source": [
    "##### **Integração de mais dados**\n",
    "- Expandir a análise incorporando mais fontes de dados, como notícias relacionadas a criptomoedas e eventos do mercado, para entender melhor os fatores que influenciam os preços.\n"
   ]
  },
  {
   "cell_type": "markdown",
   "metadata": {},
   "source": [
    "##### **Machine Learning**\n",
    "- Explorar modelos de machine learning para prever tendências futuras de preços com base em dados históricos.\n"
   ]
  },
  {
   "cell_type": "markdown",
   "metadata": {},
   "source": [
    "##### **Educação Financeira**\n",
    "- Promover a educação financeira relacionada a investimentos em criptomoedas, destacando os riscos e benefícios desse mercado.\n"
   ]
  },
  {
   "cell_type": "markdown",
   "metadata": {},
   "source": [
    "##### **Revisão periódica**\n",
    "- Realizar revisões periódicas das análises à medida que novos dados se tornam disponíveis, a fim de ajustar estratégias de investimento, se necessário.\n"
   ]
  },
  {
   "cell_type": "markdown",
   "metadata": {},
   "source": [
    "Esta análise de criptomoedas forneceu uma visão geral das tendências e padrões dos preços das moedas digitais, mas o mercado de criptomoedas é altamente dinâmico e sujeito a mudanças rápidas. Portanto, é fundamental continuar monitorando e adaptando as estratégias de investimento com base nas condições atuais do mercado.\n"
   ]
  }
 ],
 "metadata": {
  "kernelspec": {
   "display_name": "Python 3",
   "language": "python",
   "name": "python3"
  },
  "language_info": {
   "codemirror_mode": {
    "name": "ipython",
    "version": 3
   },
   "file_extension": ".py",
   "mimetype": "text/x-python",
   "name": "python",
   "nbconvert_exporter": "python",
   "pygments_lexer": "ipython3",
   "version": "3.11.5"
  },
  "orig_nbformat": 4
 },
 "nbformat": 4,
 "nbformat_minor": 2
}
