{
 "cells": [
  {
   "cell_type": "markdown",
   "metadata": {},
   "source": [
    "# Análise de Criptomoedas - Passo a Passo\n",
    "\n",
    "Neste notebook, realizaremos uma análise exploratória dos valores das criptomoedas. O objetivo é responder a várias perguntas relacionadas ao mercado de criptomoedas usando os dados disponíveis. Vamos seguir as seguintes etapas:\n"
   ]
  },
  {
   "cell_type": "markdown",
   "metadata": {},
   "source": [
    "## Etapa 1: Importação e Limpeza de Dados\n",
    "\n",
    "Nesta etapa, começaremos importando os dados das criptomoedas. Os dados brutos podem conter informações redundantes, nulas ou imprecisas, então nossa primeira tarefa é limpar os dados. Vamos realizar as seguintes ações:\n",
    "\n",
    "- Importar bibliotecas necessárias.\n",
    "- Carregar o conjunto de dados.\n",
    "- Verificar a integridade dos dados, como valores nulos.\n",
    "- Realizar a limpeza dos dados, se necessário."
   ]
  },
  {
   "cell_type": "markdown",
   "metadata": {},
   "source": [
    "## Etapa 2: Análise Exploratória Inicial\n",
    "\n",
    "Agora que temos os dados limpos, vamos realizar uma análise exploratória inicial para entender melhor as características dos valores das criptomoedas ao longo do tempo. Vamos executar as seguintes ações:\n",
    "\n",
    "- Calcular estatísticas descritivas para resumir os valores das criptomoedas.\n",
    "- Gerar gráficos de séries temporais para visualizar as tendências de preços ao longo do tempo.\n",
    "- Investigar a distribuição dos valores das criptomoedas.\n",
    "- Identificar anomalias ou outliers nos dados.\n",
    "- Inserção dos dados no Banco de Dados PostgreSQL"
   ]
  },
  {
   "cell_type": "markdown",
   "metadata": {},
   "source": [
    "## Etapa 3: Respostas às Perguntas-Chave\n",
    "\n",
    "Agora que entendemos os dados e suas características básicas, vamos avançar e responder às perguntas-chave do projeto:\n",
    "\n",
    "1. **Tendência de Valores**: Vamos analisar se os valores das criptomoedas tiveram uma tendência de queda ou aumento ao longo do período.\n",
    "2. **Valores Médios**: Calcularemos os valores médios das criptomoedas.\n",
    "3. **Variações por Ano**: Identificaremos em quais anos ocorreram as maiores quedas e valorizações.\n",
    "4. **Variações por Dia da Semana**: Investigaremos se existe alguma tendência de aumento ou queda dos valores das criptomoedas de acordo com o dia da semana.\n",
    "5. **Moeda Mais e Menos Interessante**: Analisaremos qual criptomoeda se mostrou mais interessante em relação à valorização e qual se mostrou menos interessante com base na análise da série histórica.\n",
    "6. **Correlações**: Verificaremos se existe correlação entre os valores de diferentes criptomoedas.\n"
   ]
  },
  {
   "cell_type": "markdown",
   "metadata": {},
   "source": [
    "## Etapa 4: Visualizações e Apresentação de Resultados\n",
    "\n",
    "Para tornar nossos resultados mais compreensíveis, vamos criar visualizações apropriadas para cada pergunta que estamos respondendo. Utilizaremos gráficos e tabelas para apresentar nossas descobertas. Além disso, vamos gerar um dashboard interativo para explorar os dados de forma mais dinâmica.\n",
    "\n"
   ]
  },
  {
   "cell_type": "markdown",
   "metadata": {},
   "source": [
    "## Etapa 5: Conclusão e Próximos Passos\n",
    "\n",
    "Na última etapa, resumiremos nossas descobertas e conclusões. Também levantaremos duas perguntas adicionais que não foram abordadas neste projeto e discutiremos possíveis direções futuras para a análise de criptomoedas.\n"
   ]
  },
  {
   "cell_type": "markdown",
   "metadata": {},
   "source": [
    "## <font size= 6 color=gold> Agora que definimos nosso plano, vamos começar :"
   ]
  },
  {
   "cell_type": "markdown",
   "metadata": {},
   "source": [
    "\n",
    "### <font size= 6 color=gold> **Etapa 1: Importação e Limpeza de Dados** "
   ]
  },
  {
   "cell_type": "markdown",
   "metadata": {},
   "source": [
    "#### **<font size= 5 color=gold>Importação dos Dados**"
   ]
  },
  {
   "cell_type": "markdown",
   "metadata": {},
   "source": [
    "##### **Origem dos Dados**\n",
    "\n",
    "Os dados utilizados neste projeto foram obtidos a partir do site CoinMarketCap e estão disponíveis gratuitamente para uso. O conjunto de dados consiste em um arquivo CSV para cada moeda e contém informações de histórico de preço diário a partir de 28 de abril de 2013. As moedas escolhidas para análise são as seguintes:\n",
    "\n",
    "- 'coin_BinanceCoin.csv'\n",
    "- 'coin_Cardano.csv'\n",
    "- 'coin_ChainLink.csv'\n",
    "- 'coin_CryptocomCoin.csv'\n",
    "- 'coin_EOS.csv'\n",
    "- 'coin_Ethereum.csv'\n",
    "- 'coin_Iota.csv'\n",
    "- 'coin_NEM.csv'\n",
    "- 'coin_Tron.csv'\n",
    "- 'coin_USDCoin.csv'\n",
    "\n",
    "##### Colunas do Conjunto de Dados\n",
    "\n",
    "O conjunto de dados contém as seguintes colunas:\n",
    "\n",
    "- **Date**: Data da observação.\n",
    "- **Open**: Preço de abertura no dia especificado.\n",
    "- **High**: Maior preço atingido no dia especificado.\n",
    "- **Low**: Menor preço atingido no dia especificado.\n",
    "- **Close**: Preço de fechamento no dia especificado.\n",
    "- **Volume**: Volume de transações no dia especificado.\n",
    "- **Market Cap**: Capitalização de mercado em USD no dia especificado.\n",
    "\n"
   ]
  },
  {
   "cell_type": "markdown",
   "metadata": {},
   "source": [
    "#### **<font size=5 color=gold>Limpeza inicial.**\n",
    "\n",
    "\n"
   ]
  },
  {
   "cell_type": "markdown",
   "metadata": {},
   "source": [
    "##### **Importar bibliotecas necessárias.** "
   ]
  },
  {
   "cell_type": "code",
   "execution_count": 12,
   "metadata": {},
   "outputs": [],
   "source": [
    "# Importar as bibliotecas Python necessárias\n",
    "import pandas as pd\n",
    "\n"
   ]
  },
  {
   "cell_type": "markdown",
   "metadata": {},
   "source": [
    "##### **Carregar o conjunto de dados**"
   ]
  },
  {
   "cell_type": "code",
   "execution_count": null,
   "metadata": {},
   "outputs": [],
   "source": [
    "# Carregar os dados da criptomoeda Cardano\n",
    "df = pd.read_csv('./criptos/coin_Cardano.csv')\n",
    "\n",
    "# Exibir as primeiras 5 linhas do DataFrame\n",
    "df.head()"
   ]
  },
  {
   "cell_type": "markdown",
   "metadata": {},
   "source": [
    "##### **Verificar a integridade dos dados, como valores nulos.**"
   ]
  },
  {
   "cell_type": "code",
   "execution_count": 10,
   "metadata": {},
   "outputs": [
    {
     "name": "stdout",
     "output_type": "stream",
     "text": [
      "SNo          0\n",
      "Name         0\n",
      "Symbol       0\n",
      "Date         0\n",
      "High         0\n",
      "Low          0\n",
      "Open         0\n",
      "Close        0\n",
      "Volume       0\n",
      "Marketcap    0\n",
      "dtype: int64\n"
     ]
    }
   ],
   "source": [
    "colunas_nulas = df.isnull().sum()\n",
    "\n",
    "# Exibir as colunas nulas\n",
    "\n",
    "print(colunas_nulas)"
   ]
  },
  {
   "cell_type": "markdown",
   "metadata": {},
   "source": [
    "##### **Realizar a limpeza dos dados, se necessário.**"
   ]
  },
  {
   "cell_type": "markdown",
   "metadata": {},
   "source": [
    "\n",
    "\n",
    "Na etapa Anterior, verificamos a qualidade dos dados e identificamos que não há colunas com valores nulos, o que é uma ótima notícia, pois os dados estão em boas condições para análise. Portanto, não será necessário realizar tratamentos para preencher ou remover valores nulos.\n",
    "\n",
    "###### Tratamentos de Dados\n",
    "\n",
    "No entanto, para aprimorar a análise, realizaremos os seguintes tratamentos nos dados:\n",
    "\n",
    "1. **Remoção da Hora da Coluna Data**: A coluna \"Data\" contém informações de data e hora, mas percebemos que o horário é sempre o mesmo. Portanto, iremos remover a parte da hora, mantendo apenas a data.\n",
    "\n",
    "2. **Transformação da Coluna Data para Datetime**: Para facilitar a manipulação e análise de datas, converteremos a coluna \"Data\" para o formato de data e hora (`datetime`).\n",
    "\n",
    "Esses tratamentos nos permitirão explorar os dados de forma mais eficaz e realizar análises temporais relevantes.\n",
    "\n",
    "Vamos implementar esses tratamentos nos próximos passos da nossa análise.\n"
   ]
  },
  {
   "cell_type": "markdown",
   "metadata": {},
   "source": [
    "### <font size= 6 color=gold> \n",
    "   **Etapa 2: Análise Exploratória Inicial**"
   ]
  },
  {
   "cell_type": "markdown",
   "metadata": {},
   "source": [
    "\n",
    "<font size=4 > Nesta etapa, nosso foco principal é preparar os dados para análises mais detalhadas que serão conduzidas posteriormente com a ajuda da ferramenta Power BI. Portanto, não realizaremos as análises detalhadas neste momento."
   ]
  },
  {
   "cell_type": "markdown",
   "metadata": {},
   "source": [
    "#### <font size=5 color=gold> **Preparação dos Dados**"
   ]
  },
  {
   "cell_type": "markdown",
   "metadata": {},
   "source": [
    "<font size=4 > Começaremos preparando os dados para análise. Isso inclui a limpeza inicial dos dados, como mencionado na Etapa 1, e a formatação adequada para futuras análises."
   ]
  },
  {
   "cell_type": "markdown",
   "metadata": {},
   "source": [
    "#### <font size=5 color=gold> **Inserção dos Dados no Banco de Dados PostgreSQL**"
   ]
  },
  {
   "cell_type": "markdown",
   "metadata": {},
   "source": [
    "<font size=4 > Além da preparação dos dados, planejamos inserir os dados em um Banco de Dados PostgreSQL para facilitar a análise no Power BI. Posteriormente, forneceremos um tutorial sobre como realizar essa inserção em um banco na nuvem usando o serviço Render e como estabelecer a conexão do Power BI com o PostgreSQL na nuvem.\n"
   ]
  },
  {
   "cell_type": "markdown",
   "metadata": {},
   "source": [
    "#### <font size=5 color=gold> **Acompanhando o Estado do Banco de Dados com o pgAdmin**"
   ]
  },
  {
   "cell_type": "markdown",
   "metadata": {},
   "source": [
    "Uma parte crucial do processo de preparação e inserção de dados em um banco de dados PostgreSQL é a capacidade de monitorar e acompanhar o estado do banco de dados. Isso permite garantir que os dados estejam sendo inseridos corretamente e que o banco de dados esteja funcionando conforme o esperado. Neste contexto, utilizaremos o pgAdmin, uma interface gráfica popular para gerenciar bancos de dados PostgreSQL, para acompanhar o processo de inserção dos dados das criptomoedas.\n",
    "\n",
    "##### O que é o pgAdmin?\n",
    "\n",
    "O [pgAdmin](https://www.pgadmin.org/) é uma ferramenta de código aberto amplamente usada para administrar bancos de dados PostgreSQL. Ele fornece uma interface intuitiva e amigável que permite aos administradores e desenvolvedores realizar diversas tarefas de gerenciamento de bancos de dados, incluindo a criação de esquemas, consultas SQL, importação e exportação de dados, entre outros.\n",
    "\n",
    "##### Como Acompanhar o Estado do Banco de Dados com o pgAdmin?\n",
    "\n",
    "Aqui estão os passos para acompanhar o estado do banco de dados durante o processo de inserção de dados:\n",
    "\n",
    "##### 1. Instalação do pgAdmin\n",
    "\n",
    "Se você ainda não possui o pgAdmin instalado, pode baixá-lo e instalá-lo em seu sistema operacional a partir do [site oficial do pgAdmin](https://www.pgadmin.org/download/). Certifique-se de escolher a versão compatível com seu sistema operacional.\n",
    "\n",
    "##### 2. Conexão ao Banco de Dados\n",
    "\n",
    "Após a instalação, abra o pgAdmin e siga estas etapas:\n",
    "\n",
    "   - Clique com o botão direito em \"Servers\" na barra lateral esquerda.\n",
    "   - Escolha \"Register\" > \"Server\" para criar uma nova conexão com o banco de dados.\n",
    "\n",
    "\n",
    "   ![pgadmin01](assets/pgadmin01.png)\n",
    "\n",
    "    \n",
    "   - Preencha os detalhes da conexão, incluindo o nome do servidor, host, porta e credenciais de autenticação.\n",
    "   \n",
    "   - hostname = dpg-ck4pn76ct0pc7384758g-a.oregon-postgres.render.com\n",
    "   - database = cripto_db_kn8g\n",
    "   - username = cripto_db_kn8g_user\n",
    "   - password = MIfSgNn7zC2lD0PbMhYnfn1pc60gTi8c\n",
    "\n",
    "\n",
    "   ![pgadmin02](./assets/pgadmin/pgadmin02.png)\n",
    "\n",
    "\n",
    "   ![pgadmin03](./assets/pgadmin/pgadmin03.png)\n",
    "\n",
    "\n",
    "   - Clique em \"Save\" para salvar a conexão.\n",
    "\n",
    "##### 3. Visualização do Estado do Banco de Dados\n",
    "\n",
    "Com a conexão estabelecida, você pode agora visualizar o estado do banco de dados:\n",
    "\n",
    "\n",
    "   ![pgadmin04](./assets/pgadmin/pgadmin04.png)\n",
    "\n",
    "\n",
    "   - Expanda a árvore de servidores e a conexão criada para acessar o banco de dados.\n",
    "\n",
    "\n",
    "\n",
    "   ![pgadmin05](./assets/pgadmin/pgadmin05.png)\n",
    "\n",
    "   \n",
    "   - Execute o script da seção abaixo para criar a tabela no PostgreSQL e inserir os dados\n",
    "\n",
    "   - Clique com o botão direito do mouse em TABLES e clique em REFRESH para atualizar as tabelas do banco e mostar a tabela criada no script\n",
    "\n",
    "\n",
    "   ![pgadmin08](./assets/pgadmin/pgadmin08.png)\n",
    "\n",
    "\n",
    "   - Navegue até a tabela onde os dados estão sendo inseridos, que no nosso caso é a tabela `tabela_cripto`.\n",
    "   - Clique com o botão direito na tabela e escolha \"View Data\" para visualizar os dados atuais na tabela.\n",
    "\n",
    "\n",
    "   ![pgadmin09](./assets/pgadmin/pgadmin09.png)\n",
    "\n",
    "\n",
    "   ![pgadmin10](./assets/pgadmin/pgadmin10.png)\n",
    "\n",
    "\n",
    "\n",
    "##### 4. Acompanhamento em Tempo Real\n",
    "\n",
    "À medida que o script Python executa o processo de inserção dos dados no banco de dados PostgreSQL, você pode acompanhar o progresso em tempo real por meio do pgAdmin. Isso permite verificar se os dados estão sendo inseridos corretamente e se não há erros ou problemas de integridade.\n",
    "\n",
    "##### Conclusão\n",
    "\n",
    "A utilização do pgAdmin para acompanhar o estado do banco de dados é uma prática importante durante o processo de inserção de dados. Ele fornece uma visão clara do que está acontecendo no banco de dados e ajuda a garantir a qualidade e integridade dos dados inseridos. Certifique-se de configurar corretamente o pgAdmin e aproveite essa ferramenta poderosa para gerenciar seu banco de dados PostgreSQL.\n"
   ]
  },
  {
   "cell_type": "markdown",
   "metadata": {},
   "source": []
  },
  {
   "cell_type": "markdown",
   "metadata": {},
   "source": [
    "####  <font size=5 color=gold> **Script de Preparação e Inserção de Dados em Banco de Dados PostgreSQL**\n",
    "\n",
    "\n",
    "\n",
    "\n"
   ]
  },
  {
   "cell_type": "markdown",
   "metadata": {},
   "source": [
    "<font size=4 color=white> Este script Python realiza uma série de ações para preparar e inserir dados relacionados a criptomoedas em um banco de dados PostgreSQL. Abaixo estão as principais etapas e explicações:\n",
    "\n",
    "##### 1. Importação de Bibliotecas\n",
    "\n",
    "O script começa importando as bibliotecas necessárias para executar as tarefas, incluindo `os`, `subprocess`, `pandas` e `psycopg2`.\n",
    "\n",
    "##### 2. Instalação de Bibliotecas\n",
    "\n",
    "Verifica se as bibliotecas `pandas` e `psycopg2` estão instaladas no ambiente. Caso não estejam, o script as instala automaticamente usando o comando `pip install`.\n",
    "\n",
    "##### 3. Diretório de Dados\n",
    "\n",
    "Define o diretório onde os arquivos CSV originais das criptomoedas estão localizados. É importante definir o caminho correto para esses arquivos.\n",
    "\n",
    "##### 4. Lista de Arquivos\n",
    "\n",
    "Cria uma lista chamada `arquivos` que contém os nomes dos arquivos CSV originais das criptomoedas que serão processados.\n",
    "\n",
    "##### 5. Preparação dos Dados\n",
    "\n",
    "Para cada arquivo na lista `arquivos`, o script realiza as seguintes ações:\n",
    "   - Lê o arquivo CSV.\n",
    "   - Converte a coluna de datas para o formato correto e remove o horário.\n",
    "   - Remove a coluna 'SNo'.\n",
    "   - Combina os dados de cada arquivo em um único DataFrame chamado `dados_combinados`.\n",
    "\n",
    "##### 6. Salvamento dos Dados\n",
    "\n",
    "Salva o DataFrame `dados_combinados` em um novo arquivo CSV chamado 'dados_combinados.csv'. Esse arquivo será usado posteriormente para inserir os dados no banco de dados PostgreSQL.\n",
    "\n",
    "##### 7. Conexão com o Banco de Dados PostgreSQL\n",
    "\n",
    "Estabelece uma conexão com um banco de dados PostgreSQL que está hospedado na nuvem. São fornecidas informações essenciais, como o host do banco de dados, o nome do banco de dados, o nome de usuário e a senha.\n",
    "\n",
    "##### 8. Criação da Tabela\n",
    "\n",
    "Define a estrutura da tabela no banco de dados onde os dados das criptomoedas serão armazenados. São especificados os tipos de dados das colunas, chaves primárias, etc.\n",
    "\n",
    "##### 9. Carregamento dos Dados\n",
    "\n",
    "Usa o comando `COPY` para carregar os dados do arquivo CSV combinado ('dados_combinados.csv') para a tabela PostgreSQL recém-criada. Isso popula a tabela com os dados das criptomoedas.\n",
    "\n",
    "##### 10. Commit e Fechamento\n",
    "\n",
    "Realiza um commit para salvar as alterações no banco de dados. Em seguida, fecha a conexão com o banco de dados PostgreSQL.\n",
    "\n",
    "##### 11. Conclusão\n",
    "\n",
    "Finaliza o script exibindo a mensagem \"Concluído!\" para indicar que o processo de preparação e inserção de dados foi concluído com sucesso.\n",
    "\n",
    "Este script automatiza a tarefa de preparar e inserir dados de criptomoedas em um banco de dados PostgreSQL, facilitando análises futuras."
   ]
  },
  {
   "cell_type": "markdown",
   "metadata": {},
   "source": []
  },
  {
   "cell_type": "markdown",
   "metadata": {},
   "source": [
    "#### <font size=5 color=gold> **Execução do Script**"
   ]
  },
  {
   "cell_type": "code",
   "execution_count": 15,
   "metadata": {},
   "outputs": [
    {
     "name": "stdout",
     "output_type": "stream",
     "text": [
      "Concluído!\n"
     ]
    }
   ],
   "source": [
    "import os\n",
    "import subprocess\n",
    "import pandas as pd\n",
    "import psycopg2\n",
    "\n",
    "# Instalação do pandas e psycopg2 se não estiverem instalados\n",
    "try:\n",
    "    import pandas as pd\n",
    "except ImportError:\n",
    "    subprocess.run([\"pip\", \"install\", \"pandas\"])\n",
    "\n",
    "try:\n",
    "    import psycopg2\n",
    "except ImportError:\n",
    "    subprocess.run([\"pip\", \"install\", \"psycopg2\"])\n",
    "\n",
    "# Diretório onde estão os arquivos CSV originais\n",
    "diretorio = './criptos'  # Defina o diretório correto\n",
    "pasta_csv_alterado = os.path.join('csv_alterado')\n",
    "\n",
    "# Verifica se a pasta 'csv_alterado' existe e a cria se necessário\n",
    "if not os.path.exists(pasta_csv_alterado):\n",
    "    os.makedirs(pasta_csv_alterado)\n",
    "\n",
    "# Lista de nomes dos arquivos CSV originais\n",
    "arquivos = [\n",
    "    'coin_BinanceCoin.csv',\n",
    "    'coin_Cardano.csv',\n",
    "    'coin_ChainLink.csv',\n",
    "    'coin_CryptocomCoin.csv',\n",
    "    'coin_EOS.csv',\n",
    "    'coin_Ethereum.csv',\n",
    "    'coin_Iota.csv',\n",
    "    'coin_NEM.csv',\n",
    "    'coin_Tron.csv',\n",
    "    'coin_USDCoin.csv'\n",
    "]\n",
    "\n",
    "# Cria um DataFrame vazio para armazenar os dados combinados\n",
    "dados_combinados = pd.DataFrame()\n",
    "\n",
    "# Para cada arquivo na lista\n",
    "for arquivo in arquivos:\n",
    "    arquivo_csv = os.path.join(diretorio, arquivo)\n",
    "    df = pd.read_csv(arquivo_csv)\n",
    "    df['Date'] = pd.to_datetime(df['Date']).dt.date  # Converte para tipo 'DATE' e remove o horário\n",
    "    df = df.drop(columns='SNo')  # Remove a coluna 'SNo'\n",
    "    dados_combinados = pd.concat([dados_combinados, df])\n",
    "\n",
    "# Salva o DataFrame combinado em um único arquivo CSV\n",
    "arquivo_csv_combinado = os.path.join(pasta_csv_alterado, 'dados_combinados.csv')\n",
    "dados_combinados.to_csv(arquivo_csv_combinado, index=False)\n",
    "\n",
    "# Conexão com o banco de dados PostgreSQL\n",
    "conn = psycopg2.connect(\n",
    "    host=\"dpg-ck4pn76ct0pc7384758g-a.oregon-postgres.render.com\",\n",
    "    database=\"cripto_db_kn8g\",\n",
    "    user=\"cripto_db_kn8g_user\",\n",
    "    password=\"MIfSgNn7zC2lD0PbMhYnfn1pc60gTi8c\"\n",
    ")\n",
    "\n",
    "# Criação da tabela no PostgreSQL\n",
    "with conn.cursor() as cur:\n",
    "    cur.execute('''\n",
    "        CREATE TABLE IF NOT EXISTS tabela_cripto (\n",
    "            id SERIAL PRIMARY KEY,\n",
    "            Name TEXT,\n",
    "            Symbol TEXT,\n",
    "            Date DATE,\n",
    "            High NUMERIC,\n",
    "            Low NUMERIC,\n",
    "            Open NUMERIC,\n",
    "            Close NUMERIC,\n",
    "            Volume NUMERIC,\n",
    "            Marketcap NUMERIC\n",
    "        );\n",
    "    ''')\n",
    "# Usa o comando COPY para carregar os dados do arquivo CSV combinado para a tabela PostgreSQL\n",
    "with conn.cursor() as copy_cur:\n",
    "    with open(arquivo_csv_combinado, 'r') as f:\n",
    "        columns = \",\".join(dados_combinados.columns)  # Todas as colunas\n",
    "        copy_cur.copy_expert(f\"COPY tabela_cripto ({columns}) FROM stdin WITH CSV HEADER\", f)\n",
    "\n",
    "# Commit para salvar as alterações no banco de dados\n",
    "conn.commit()\n",
    "\n",
    "# Fecha a conexão com o banco de dados\n",
    "conn.close()\n",
    "\n",
    "print(\"Concluído!\")"
   ]
  }
 ],
 "metadata": {
  "kernelspec": {
   "display_name": "Python 3",
   "language": "python",
   "name": "python3"
  },
  "language_info": {
   "codemirror_mode": {
    "name": "ipython",
    "version": 3
   },
   "file_extension": ".py",
   "mimetype": "text/x-python",
   "name": "python",
   "nbconvert_exporter": "python",
   "pygments_lexer": "ipython3",
   "version": "3.11.5"
  },
  "orig_nbformat": 4
 },
 "nbformat": 4,
 "nbformat_minor": 2
}
